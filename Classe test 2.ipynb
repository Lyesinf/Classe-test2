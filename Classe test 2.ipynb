{
 "cells": [
  {
   "cell_type": "code",
   "execution_count": 16,
   "id": "e114225c",
   "metadata": {},
   "outputs": [
    {
     "name": "stdout",
     "output_type": "stream",
     "text": [
      "Enter la longueur du rectangle: 4\n",
      "Enter la largeur du rectangle: 7\n",
      "La superficie du rectangle = 28.00\n",
      "La pereferie du rectangle = 22.00\n"
     ]
    }
   ],
   "source": [
    "class Rectangle:\n",
    "              \n",
    "    def __init__(self, l, w):\n",
    "         self.l = l\n",
    "         self.w = w\n",
    "           \n",
    "    def Rectangle_superficie(self):\n",
    "        return self.l * self.w    \n",
    "    \n",
    "    def Rectangle_pereferie(self):\n",
    "        return  (2 * (self.l+self.w))\n",
    "\n",
    "l= float(input('Enter la longueur du rectangle: '))\n",
    "w= float(input('Enter la largeur du rectangle: '))\n",
    "    \n",
    "# creer la variable qui va servire a calculer la surface et la pereferie\n",
    "\n",
    "opperation = Rectangle(l,w)\n",
    "\n",
    "superficie = opperation.Rectangle_superficie()\n",
    "pereferie = opperation.Rectangle_pereferie()\n",
    "\n",
    "# Afficher La superficie et La pereferie du rectangle\n",
    "\n",
    "print(\"La superficie du rectangle = %.2f\" %superficie)\n",
    "print(\"La pereferie du rectangle = %.2f\" %pereferie)\n"
   ]
  },
  {
   "cell_type": "code",
   "execution_count": null,
   "id": "8d5473fb",
   "metadata": {},
   "outputs": [],
   "source": []
  }
 ],
 "metadata": {
  "kernelspec": {
   "display_name": "Python 3 (ipykernel)",
   "language": "python",
   "name": "python3"
  },
  "language_info": {
   "codemirror_mode": {
    "name": "ipython",
    "version": 3
   },
   "file_extension": ".py",
   "mimetype": "text/x-python",
   "name": "python",
   "nbconvert_exporter": "python",
   "pygments_lexer": "ipython3",
   "version": "3.9.7"
  }
 },
 "nbformat": 4,
 "nbformat_minor": 5
}
